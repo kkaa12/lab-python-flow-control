{
 "cells": [
  {
   "cell_type": "markdown",
   "id": "d3bfc191-8885-42ee-b0a0-bbab867c6f9f",
   "metadata": {
    "tags": []
   },
   "source": [
    "# Lab | Flow Control"
   ]
  },
  {
   "cell_type": "markdown",
   "id": "3851fcd1-cf98-4653-9c89-e003b7ec9400",
   "metadata": {},
   "source": [
    "## Exercise: Managing Customer Orders Optimized\n",
    "\n",
    "In the last lab, you were starting an online store that sells various products. To ensure smooth operations, you developed a program that manages customer orders and inventory.\n",
    "\n",
    "You did so without using flow control. Let's go a step further and improve this code.\n",
    "\n",
    "Follow the steps below to complete the exercise:\n",
    "\n",
    "1. Look at your code from the lab data structures, and improve repeated code with loops.\n",
    "\n",
    "2. Instead of asking the user to input the name of three products that a customer wants to order, do the following:\n",
    "    \n",
    "    a. Prompt the user to enter the name of a product that a customer wants to order.\n",
    "    \n",
    "    b. Add the product name to the \"customer_orders\" set.\n",
    "    \n",
    "    c. Ask the user if they want to add another product (yes/no).\n",
    "    \n",
    "    d. Continue the loop until the user does not want to add another product.\n",
    "\n",
    "3. Instead of updating the inventory by subtracting 1 from the quantity of each product, only do it for  the products that were ordered (those in \"customer_orders\")."
   ]
  },
  {
   "cell_type": "code",
   "execution_count": 19,
   "id": "3c16726f",
   "metadata": {},
   "outputs": [
    {
     "name": "stdout",
     "output_type": "stream",
     "text": [
      "Enter key: t-shirt\n",
      "Enter value: 8\n",
      "Enter key: mug\n",
      "Enter value: 6\n",
      "Enter key: hat\n",
      "Enter value: 7\n",
      "Enter key: book\n",
      "Enter value: 9\n",
      "Enter key: keychain\n",
      "Enter value: 4\n",
      "{'t-shirt': 8, 'mug': 6, 'hat': 7, 'book': 9, 'keychain': 4}\n"
     ]
    }
   ],
   "source": [
    "products = [\"t-shirt\", \"mug\", \"hat\", \"book\", \"keychain\"]\n",
    "inventory = {}\n",
    "\n",
    "num_entries = 5\n",
    "\n",
    "for i in range(num_entries):\n",
    "        key = input(\"Enter key: \")\n",
    "        value = int(input(\"Enter value: \"))\n",
    "        inventory[key] = value\n",
    "    \n",
    "print(inventory)\n"
   ]
  },
  {
   "cell_type": "code",
   "execution_count": 26,
   "id": "f7ead011",
   "metadata": {},
   "outputs": [
    {
     "name": "stdout",
     "output_type": "stream",
     "text": [
      "Choose a product you would like to order from this list: ['t-shirt', 'mug', 'hat', 'book', 'keychain']: dress\n",
      "Choice not valid, try again.\n",
      "Choose a product you would like to order from this list: ['t-shirt', 'mug', 'hat', 'book', 'keychain']: hat\n",
      "Do you want to order another product? Enter yes or noyes\n",
      "Choose a product you would like to order from this list: ['t-shirt', 'mug', 'hat', 'book', 'keychain']: socks\n",
      "Choice not valid, try again.\n",
      "Choose a product you would like to order from this list: ['t-shirt', 'mug', 'hat', 'book', 'keychain']: hat\n",
      "You've already ordered this product. Please choose a different one.\n",
      "Choose a product you would like to order from this list: ['t-shirt', 'mug', 'hat', 'book', 'keychain']: mug\n",
      "Do you want to order another product? Enter yes or noyes\n",
      "Choose a product you would like to order from this list: ['t-shirt', 'mug', 'hat', 'book', 'keychain']: book\n",
      "Do you want to order another product? Enter yes or nono\n",
      "Customer orders: {'book', 'hat', 'mug'}\n"
     ]
    }
   ],
   "source": [
    "customer_orders = set()\n",
    "keep_asking = 1\n",
    "\n",
    "while keep_asking != 0:\n",
    "    input_product = input(f\"Choose a product you would like to order from this list: {products}: \")\n",
    "    if input_product in products:\n",
    "        if input_product not in customer_orders:  \n",
    "            customer_orders.add(input_product)\n",
    "            if input(\"Do you want to order another product? Enter yes or no\").strip() == \"yes\":\n",
    "                keep_asking -= 0\n",
    "            else:\n",
    "                keep_asking -= 1\n",
    "        else:\n",
    "            print(\"You've already ordered this product. Please choose a different one.\")\n",
    "    else:\n",
    "        print(\"Choice not valid, try again.\")\n",
    "\n",
    "print(\"Customer orders:\", customer_orders)"
   ]
  },
  {
   "cell_type": "code",
   "execution_count": 29,
   "id": "fcb86638",
   "metadata": {},
   "outputs": [
    {
     "name": "stdout",
     "output_type": "stream",
     "text": [
      "Enter quantity for book: 2\n",
      "Enter quantity for hat: 3\n",
      "Enter quantity for mug: 4\n"
     ]
    }
   ],
   "source": [
    "ordered_from_inventory = {}\n",
    "\n",
    "for item in customer_orders:\n",
    "    value = input(f\"Enter quantity for {item}: \")\n",
    "    try:\n",
    "        ordered_from_inventory[item] = int(value)\n",
    "    except:\n",
    "        print(\"Invalid input\")\n",
    "        ordered_from_inventory[item] = 0"
   ]
  },
  {
   "cell_type": "code",
   "execution_count": 40,
   "id": "2e4d39fd",
   "metadata": {},
   "outputs": [
    {
     "name": "stdout",
     "output_type": "stream",
     "text": [
      "{'book': 2, 'hat': 3, 'mug': 4}\n"
     ]
    }
   ],
   "source": [
    "print(ordered_from_inventory)"
   ]
  },
  {
   "cell_type": "code",
   "execution_count": 41,
   "id": "5a8790be",
   "metadata": {},
   "outputs": [
    {
     "name": "stdout",
     "output_type": "stream",
     "text": [
      "Updated inventory: {'t-shirt': 8, 'mug': 2, 'hat': 4, 'book': 7, 'keychain': 4}\n"
     ]
    }
   ],
   "source": [
    "for item, quantity in ordered_from_inventory.items():\n",
    "    if item in inventory:\n",
    "        inventory[item] -= quantity\n",
    "    else:\n",
    "        print(f\"{item} not found in inventory.\")\n",
    "\n",
    "print(\"Updated inventory:\", inventory)\n"
   ]
  }
 ],
 "metadata": {
  "kernelspec": {
   "display_name": "Python 3 (ipykernel)",
   "language": "python",
   "name": "python3"
  },
  "language_info": {
   "codemirror_mode": {
    "name": "ipython",
    "version": 3
   },
   "file_extension": ".py",
   "mimetype": "text/x-python",
   "name": "python",
   "nbconvert_exporter": "python",
   "pygments_lexer": "ipython3",
   "version": "3.11.5"
  }
 },
 "nbformat": 4,
 "nbformat_minor": 5
}
